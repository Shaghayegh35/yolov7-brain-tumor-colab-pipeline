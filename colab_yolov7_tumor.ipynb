{
 "cells": [
  {
   "cell_type": "markdown",
   "metadata": {},
   "source": [
    "# YOLOv7 Brain Tumor Segmentation Pipeline\n",
    "This Colab notebook trains and evaluates YOLOv7 on brain tumor MRI images."
   ]
  },
  {
   "cell_type": "code",
   "execution_count": null,
   "metadata": {},
   "outputs": [],
   "source": [
    "# Step 1: Mount Google Drive\n",
    "from google.colab import drive\n",
    "import os\n",
    "\n",
    "drive.mount('/content/drive')\n",
    "\n",
    "# Define dataset paths\n",
    "base_path = '/content/drive/MyDrive/yolov7_tumor_segmentation'\n",
    "train_path = f\"{base_path}/train\"\n",
    "val_path = f\"{base_path}/validation\"\n",
    "test_path = f\"{base_path}/test\"\n",
    "\n",
    "# Verify dataset folders\n",
    "for folder in [f\"{train_path}/images\", f\"{train_path}/labels\", f\"{val_path}/images\", f\"{val_path}/labels\"]:\n",
    "    assert os.path.exists(folder), f\"Missing folder: {folder}\"\n",
    "\n",
    "print(\"✅ Dataset structure verified\")"
   ]
  },
  {
   "cell_type": "code",
   "execution_count": null,
   "metadata": {},
   "outputs": [],
   "source": [
    "# Step 2: Clone YOLOv7 repository and install dependencies\n",
    "!git clone https://github.com/WongKinYiu/yolov7.git\n",
    "%cd yolov7\n",
    "!pip install -r requirements.txt"
   ]
  },
  {
   "cell_type": "code",
   "execution_count": null,
   "metadata": {},
   "outputs": [],
   "source": [
    "# Step 3: Create data.yaml dynamically\n",
    "data_yaml = f\"\"\"\n",
    "train: {train_path}/images\n",
    "val: {val_path}/images\n",
    "test: {test_path}/images\n",
    "\n",
    "nc: 1\n",
    "names: ['tumor']\n",
    "\"\"\"\n",
    "\n",
    "with open('/content/yolov7/data_tumor.yaml', 'w') as f:\n",
    "    f.write(data_yaml)\n",
    "\n",
    "print(\"✅ data.yaml created\")"
   ]
  },
  {
   "cell_type": "code",
   "execution_count": null,
   "metadata": {},
   "outputs": [],
   "source": [
    "# Step 4: Train YOLOv7 model\n",
    "!python train.py --img 640 --batch 16 --epochs 50 \\\n",
    "  --data /content/yolov7/data_tumor.yaml \\\n",
    "  --weights yolov7.pt --device 0 --name tumor_yolov7"
   ]
  },
  {
   "cell_type": "code",
   "execution_count": null,
   "metadata": {},
   "outputs": [],
   "source": [
    "# Step 5: Run inference on test images\n",
    "!python detect.py --weights runs/train/tumor_yolov7/weights/best.pt \\\n",
    "  --source {test_path}/images \\\n",
    "  --conf 0.25 --name tumor_inference"
   ]
  }
 ],
 "metadata": {
  "kernelspec": {
   "display_name": "Python 3",
   "language": "python",
   "name": "python3"
  },
  "language_info": {
   "name": "python",
   "version": "3.10"
  }
 },
 "nbformat": 4,
 "nbformat_minor": 5
}
