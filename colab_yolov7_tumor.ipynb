{
  "cells": [
    {
      "cell_type": "markdown",
      "metadata": {
        "id": "anMZ13e9Akcz"
      },
      "source": [
        "# YOLOv7 Brain Tumor Segmentation Pipeline\n",
        "This Colab notebook trains and evaluates YOLOv7 on brain tumor MRI images."
      ],
      "id": "anMZ13e9Akcz"
    },
    {
      "cell_type": "code",
      "execution_count": null,
      "metadata": {
        "id": "Ve9fBMu-Akc0"
      },
      "outputs": [],
      "source": [
        "# Step 1: Mount Google Drive\n",
        "from google.colab import drive\n",
        "import os\n",
        "import glob\n",
        "\n",
        "# Mount Google Drive\n",
        "drive.mount('/content/drive')\n",
        "\n",
        "# Define paths\n",
        "base_path = '/content/drive/MyDrive/yolov7_tumor_segmentation'\n",
        "train_path = f\"{base_path}/train\"\n",
        "val_path = f\"{base_path}/validation\"\n",
        "test_path = f\"{base_path}/test\"\n",
        "\n",
        "# Verify dataset structure\n",
        "assert os.path.exists(f\"{train_path}/images\"), \"Train images folder not found!\"\n",
        "assert os.path.exists(f\"{train_path}/labels\"), \"Train labels folder not found!\"\n",
        "assert os.path.exists(f\"{val_path}/images\"), \"Validation images folder not found!\"\n",
        "assert os.path.exists(f\"{val_path}/labels\"), \"Validation labels folder not found!\"\n",
        "\n",
        "print(\"Dataset structure verified!\")"
      ],
      "id": "Ve9fBMu-Akc0"
    },
    {
      "cell_type": "code",
      "execution_count": null,
      "metadata": {
        "id": "fjSL__SjAkc1"
      },
      "outputs": [],
      "source": [
        "# Step 2: Clone YOLOv7 Repository and Install Dependencies\n",
        "!git clone https://github.com/WongKinYiu/yolov7.git\n",
        "%cd yolov7\n",
        "!pip install -r requirements.txt"
      ],
      "id": "fjSL__SjAkc1"
    },
    {
      "cell_type": "code",
      "execution_count": null,
      "metadata": {
        "id": "MhsMv2pfAkc2"
      },
      "outputs": [],
      "source": [
        "# Step 3: Add Empty Labels for Non-Tumor Images\n",
        "def add_empty_labels(images_path, labels_path):\n",
        "    # Ensure the labels directory exists\n",
        "    os.makedirs(labels_path, exist_ok=True)\n",
        "\n",
        "    # Loop through all images in the images folder\n",
        "    for image_file in os.listdir(images_path):\n",
        "        if image_file.endswith(('.jpg', '.png')):\n",
        "            # Generate the corresponding .txt file path\n",
        "            label_file = os.path.splitext(image_file)[0] + '.txt'\n",
        "            label_path = os.path.join(labels_path, label_file)\n",
        "\n",
        "            # Create an empty .txt file if it doesn't already exist\n",
        "            if not os.path.exists(label_path):\n",
        "                open(label_path, 'w').close()  # Create an empty file\n",
        "\n",
        "# Add empty labels for train, val, and test datasets\n",
        "add_empty_labels(f\"{train_path}/images\", f\"{train_path}/labels\")\n",
        "add_empty_labels(f\"{val_path}/images\", f\"{val_path}/labels\")\n",
        "add_empty_labels(f\"{test_path}/images\", f\"{test_path}/labels\")\n",
        "\n",
        "print(\"Empty label files created for non-tumor images!\")"
      ],
      "id": "MhsMv2pfAkc2"
    },
    {
      "cell_type": "code",
      "execution_count": null,
      "metadata": {
        "id": "vBlxBpjvAkc2"
      },
      "outputs": [],
      "source": [
        "# Step 4: Create Dataset Configuration File\n",
        "import yaml\n",
        "\n",
        "data_config = {\n",
        "    \"train\": f\"{train_path}/images\",\n",
        "    \"val\": f\"{val_path}/images\",\n",
        "    \"nc\": 1,  # Number of classes (only tumor)\n",
        "    \"names\": [\"tumor\"],  # Class names\n",
        "}\n",
        "\n",
        "# Save the dataset configuration file\n",
        "config_path = f\"{base_path}/tumor.yaml\"\n",
        "with open(config_path, \"w\") as f:\n",
        "    yaml.dump(data_config, f)\n",
        "\n",
        "print(f\"Dataset configuration file created at: {config_path}\")"
      ],
      "id": "vBlxBpjvAkc2"
    },
    {
      "cell_type": "code",
      "execution_count": null,
      "metadata": {
        "id": "E5pPXv29Akc2"
      },
      "outputs": [],
      "source": [
        "# Step 5: Download YOLOv7 Pretrained Weights\n",
        "weights_path = f\"{base_path}/yolov7.pt\"\n",
        "!wget -O {weights_path} https://github.com/WongKinYiu/yolov7/releases/download/v0.1/yolov7.pt"
      ],
      "id": "E5pPXv29Akc2"
    },
    {
      "cell_type": "code",
      "source": [
        "# Step 6: Train the Model\n",
        "print(\"Starting training...\")\n",
        "!python train.py --weights {weights_path} --cfg cfg/training/yolov7.yaml \\\n",
        "                 --data {config_path} --epochs 100 --batch-size 16 \\\n",
        "                 --img-size 640 --project {base_path} --name yolov7_train"
      ],
      "metadata": {
        "id": "UxfuinKUB4gz"
      },
      "id": "UxfuinKUB4gz",
      "execution_count": null,
      "outputs": []
    },
    {
      "cell_type": "code",
      "source": [
        "# Step 7: Locate Trained Weights\n",
        "trained_weights_path = f\"{base_path}/yolov7_train/weights/best.pt\"\n",
        "\n",
        "if os.path.exists(trained_weights_path):\n",
        "    print(f\"Trained weights found at: {trained_weights_path}\")\n",
        "else:\n",
        "    print(\"Searching for weights in default directories...\")\n",
        "    best_pt_paths = glob.glob(\"runs/train/**/weights/best.pt\", recursive=True)\n",
        "    if best_pt_paths:\n",
        "        trained_weights_path = best_pt_paths[0]\n",
        "        print(f\"Trained weights found at: {trained_weights_path}\")\n",
        "    else:\n",
        "        raise FileNotFoundError(\"Trained weights not found! Check training logs.\")"
      ],
      "metadata": {
        "id": "Yt2EZLLNB4j2"
      },
      "id": "Yt2EZLLNB4j2",
      "execution_count": null,
      "outputs": []
    },
    {
      "cell_type": "code",
      "source": [
        "# Step 8: Evaluate the Model\n",
        "print(\"Evaluating the model...\")\n",
        "!python test.py --data {config_path} --weights {trained_weights_path} \\\n",
        "                --img-size 640 --project {base_path} --name yolov7_test"
      ],
      "metadata": {
        "id": "X1YOnQDwB4nP"
      },
      "id": "X1YOnQDwB4nP",
      "execution_count": null,
      "outputs": []
    },
    {
      "cell_type": "code",
      "source": [
        "# Step 9: Perform Inference on Test Data\n",
        "print(\"Running inference...\")\n",
        "!python detect.py --weights {trained_weights_path} --conf-thres 0.25 \\\n",
        "                  --img-size 640 --source {test_path}/images --project {base_path} \\\n",
        "                  --name yolov7_inference\n",
        "\n",
        "print(f\"Inference results saved to: {base_path}/yolov7_inference\")"
      ],
      "metadata": {
        "id": "R3dmlprwB9lo"
      },
      "id": "R3dmlprwB9lo",
      "execution_count": null,
      "outputs": []
    },
    {
      "cell_type": "code",
      "source": [
        "# Step 10: Display Output Images in Colab\n",
        "import matplotlib.pyplot as plt\n",
        "import cv2\n",
        "\n",
        "# Display inference results\n",
        "inference_results_path = f\"{base_path}/yolov7_inference\"\n",
        "output_images = glob.glob(f\"{inference_results_path}/*.jpg\")\n",
        "\n",
        "print(\"Displaying Inference Results:\")\n",
        "\n",
        "for img_path in output_images[:5]:  # Display first 5 images\n",
        "    img = cv2.imread(img_path)\n",
        "    img = cv2.cvtColor(img, cv2.COLOR_BGR2RGB)\n",
        "    plt.figure(figsize=(10, 10))\n",
        "    plt.imshow(img)\n",
        "    plt.axis('off')\n",
        "    plt.show()"
      ],
      "metadata": {
        "id": "qKrWWNy4B9oe"
      },
      "id": "qKrWWNy4B9oe",
      "execution_count": null,
      "outputs": []
    },
    {
      "cell_type": "code",
      "source": [],
      "metadata": {
        "id": "ELPJTuKrB9re"
      },
      "id": "ELPJTuKrB9re",
      "execution_count": null,
      "outputs": []
    }
  ],
  "metadata": {
    "kernelspec": {
      "display_name": "Python 3",
      "language": "python",
      "name": "python3"
    },
    "language_info": {
      "name": "python",
      "version": "3.10"
    },
    "colab": {
      "provenance": []
    }
  },
  "nbformat": 4,
  "nbformat_minor": 5
}